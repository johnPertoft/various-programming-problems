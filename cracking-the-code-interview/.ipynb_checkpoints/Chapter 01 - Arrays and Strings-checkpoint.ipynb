{
 "cells": [
  {
   "cell_type": "markdown",
   "metadata": {},
   "source": [
    "1.1 Implement an algorithm to determine if a string has all unique characters. What\n",
    "if you cannot use additional data structures?"
   ]
  },
  {
   "cell_type": "code",
   "execution_count": 2,
   "metadata": {
    "collapsed": false
   },
   "outputs": [],
   "source": [
    "from collections import defaultdict\n",
    "\n",
    "def all_unique(S):\n",
    "    seen = defaultdict(lambda: False)\n",
    "    for s in S:\n",
    "        if seen[s]:\n",
    "            return False\n",
    "        seen[s] = True\n",
    "    return True\n",
    "\n",
    "all_unique_str = \"\".join(map(chr, range(ord(\"a\"), ord(\"z\")+1)))\n",
    "non_unique_str = \"abcc\"\n",
    "\n",
    "assert all_unique(all_unique_str)\n",
    "assert all_unique(\"\")\n",
    "assert not all_unique(non_unique_str)"
   ]
  },
  {
   "cell_type": "code",
   "execution_count": 3,
   "metadata": {
    "collapsed": false
   },
   "outputs": [],
   "source": [
    "# No extra data structure\n",
    "def all_unique_no_ds(S):\n",
    "    S = list(S)\n",
    "    S.sort()\n",
    "    for i in range(1, len(S)):\n",
    "        if S[i-1] == S[i]:\n",
    "            return False\n",
    "    return True\n",
    "\n",
    "assert all_unique_no_ds(all_unique_str)\n",
    "assert all_unique_no_ds(\"\")\n",
    "assert not all_unique_no_ds(non_unique_str)"
   ]
  },
  {
   "cell_type": "markdown",
   "metadata": {},
   "source": [
    "1.2 Implement a function void reverse(char* str) in C or C++ which reverses a null-\n",
    "terminated string"
   ]
  },
  {
   "cell_type": "code",
   "execution_count": 4,
   "metadata": {
    "collapsed": false
   },
   "outputs": [],
   "source": [
    "# Represent c string as char array with None at the end\n",
    "def reverse(S):\n",
    "    N = len(S)\n",
    "    rev_s = [\"a\"] * N\n",
    "    for i in range(N):\n",
    "        rev_s[i] = S[N-2-i]\n",
    "    rev_s[N-1] = None\n",
    "    return rev_s\n",
    "\n",
    "assert reverse(list(\"abcdefghijkl\") + [None]) == [\"l\", \"k\", \"j\", \"i\", \"h\", \"g\", \"f\", \"e\", \"d\", \"c\", \"b\", \"a\", None]"
   ]
  },
  {
   "cell_type": "markdown",
   "metadata": {},
   "source": [
    "1.3 Given two strings, write a method to decide if one is a permutation of the other."
   ]
  },
  {
   "cell_type": "code",
   "execution_count": 5,
   "metadata": {
    "collapsed": false
   },
   "outputs": [],
   "source": [
    "# For it to be a permutation, they have to be of equal length and have the same number of each char.\n",
    "def is_permutation(s1, s2):\n",
    "    if not len(s1) == len(s2):\n",
    "        return False\n",
    "    c1 = defaultdict(lambda: 0)\n",
    "    c2 = defaultdict(lambda: 0)\n",
    "    for s in s1:\n",
    "        c1[s] += 1\n",
    "    for s in s2:\n",
    "        c2[s] += 1\n",
    "    for c, count in c1.items():\n",
    "        if not c2[c] == count:\n",
    "            return False\n",
    "    return True\n",
    "\n",
    "assert is_permutation(\"abc\", \"bac\")\n",
    "assert is_permutation(\"a\", \"a\")\n",
    "assert not is_permutation(\"\", \"asdasda\")\n",
    "assert is_permutation(\"abcabcabc\", \"cccbbbaaa\")\n",
    "assert not is_permutation(\"a\", \"abbbbbbb\")"
   ]
  },
  {
   "cell_type": "markdown",
   "metadata": {},
   "source": [
    "1.4 Write a method to replace all spaces in a string with'%20'. You may assume that\n",
    "the string has sufficient space at the end of the string to hold the additional\n",
    "characters, and that you are given the \"true\" length of the string. (Note: if imple-\n",
    "menting in Java, please use a character array so that you can perform this opera-\n",
    "tion in place.)"
   ]
  },
  {
   "cell_type": "code",
   "execution_count": 6,
   "metadata": {
    "collapsed": false
   },
   "outputs": [],
   "source": [
    "from collections import deque\n",
    "\n",
    "def replace_space(S):\n",
    "    ll = deque()\n",
    "    for s in S:\n",
    "        ll.append(\"%20\" if s == \" \" else s)\n",
    "    return \"\".join(ll)\n",
    "\n",
    "assert replace_space(\"Mr John Smith\") == \"Mr%20John%20Smith\"\n",
    "assert replace_space(\"nospacehere\") == \"nospacehere\""
   ]
  },
  {
   "cell_type": "markdown",
   "metadata": {},
   "source": [
    "1.5 Implement a method to perform basic string compression using the counts\n",
    "of repeated characters. For example, the string aabcccccaaa would become\n",
    "a2blc5a3. If the \"compressed\" string would not become smaller than the orig-\n",
    "inal string, your method should return the original string."
   ]
  },
  {
   "cell_type": "code",
   "execution_count": 10,
   "metadata": {
    "collapsed": false
   },
   "outputs": [],
   "source": [
    "def compress(S):\n",
    "    if not S:\n",
    "        return S\n",
    "    def _compress(i, current_char, current_count, res):\n",
    "        if i == len(S):\n",
    "            final = res + current_char + str(current_count)\n",
    "            return final if len(final) < len(S) else S\n",
    "        if S[i] == current_char:\n",
    "            return _compress(i+1, current_char, current_count + 1, res)\n",
    "        else:\n",
    "            return _compress(i+1, S[i], 1, res + current_char + str(current_count))\n",
    "    return _compress(1, S[0], 1, \"\")\n",
    "    \n",
    "assert compress(\"aabcccccaaa\") == \"a2b1c5a3\"\n",
    "assert compress(\"\") == \"\"\n",
    "assert compress(\"abc\") == \"abc\" # String shorter than compression\n",
    "assert compress(\"abbbbbbbbc\") == \"a1b8c1\""
   ]
  },
  {
   "cell_type": "markdown",
   "metadata": {},
   "source": [
    "1.6 Given an image represented by an NxN matrix, where each pixel in the image is\n",
    "4 bytes, write a method to rotate the image by 90 degrees. Can you do this in\n",
    "place?"
   ]
  },
  {
   "cell_type": "code",
   "execution_count": 25,
   "metadata": {
    "collapsed": false
   },
   "outputs": [
    {
     "ename": "SyntaxError",
     "evalue": "unexpected EOF while parsing (<ipython-input-25-1312b5e23ec8>, line 40)",
     "output_type": "error",
     "traceback": [
      "\u001b[0;36m  File \u001b[0;32m\"<ipython-input-25-1312b5e23ec8>\"\u001b[0;36m, line \u001b[0;32m40\u001b[0m\n\u001b[0;31m    for c in range(w):\u001b[0m\n\u001b[0m                      ^\u001b[0m\n\u001b[0;31mSyntaxError\u001b[0m\u001b[0;31m:\u001b[0m unexpected EOF while parsing\n"
     ]
    }
   ],
   "source": [
    "def rotate_90(M):\n",
    "    h, w = len(M), len(M[0])\n",
    "    M_rot = [r[:] for r in [[0] * h] * w]\n",
    "    for i in range(h):\n",
    "        for j in range(w):\n",
    "            M_rot[j][h-i-1] = M[i][j]\n",
    "    return M_rot\n",
    "\n",
    "def rotate_90_2(M):\n",
    "    h, w = len(M), len(M[0]) \n",
    "    return [[M[r][c] for r in range(h-1, -1, -1)] for c in range(w)]\n",
    "\n",
    "def rotate_90_3(M):\n",
    "    rot = list(zip(*M[::-1])) # Take rows backwards, then zip them to form new rows\n",
    "    return list(map(list, rot)) # Technicality since we want list for each row and not tuple\n",
    "\n",
    "M_square = [[1, 2, 3], [4, 5, 6], [7, 8, 9]]\n",
    "M_rectangle = [[1, 2, 3], [4, 5, 6]]\n",
    "\n",
    "assert rotate_90(M_square) == rotate_90_2(M_square) == rotate_90_3(M_square) == [[7, 4, 1], [8, 5, 2], [9, 6, 3]]\n",
    "assert rotate_90(M_rectangle) == rotate_90_2(M_rectangle) == rotate_90_3(M_rectangle) == [[4, 1], [5, 2], [6, 3]]\n",
    "\n",
    "class MatrixView:\n",
    "    def __init__(self, data, h, w):\n",
    "        self._data = data # Stored as one dimensional array\n",
    "        self.h = h\n",
    "        self.w = w\n",
    "        self.rotated= False\n",
    "    def rotate_90(self):\n",
    "        self.rotated = True\n",
    "    def __getitem__(self, k):\n",
    "        pass\n",
    "        # TODO\n",
    "\n",
    "m = MatrixView([1, 2, 3, 4, 5, 6, 7, 8, 9], h=3, w=3)\n",
    "m[1, 2]\n",
    "\n",
    "def rotate_90_inplace(M):\n",
    "    h, w = len(M), len(M[0])\n",
    "    # TODO"
   ]
  },
  {
   "cell_type": "markdown",
   "metadata": {},
   "source": [
    "1.7 Write an algorithm such that if an element in an MxN matrix is 0, its entire row\n",
    "and column are set to 0."
   ]
  },
  {
   "cell_type": "code",
   "execution_count": 21,
   "metadata": {
    "collapsed": false
   },
   "outputs": [],
   "source": [
    "def set_zeros(A):\n",
    "    M, N = len(A), len(A[0])\n",
    "    zero_rows, zero_cols = set(), set()\n",
    "    for i in range(M):\n",
    "        for j in range(N):\n",
    "            if A[i][j] == 0:\n",
    "                zero_rows.add(i)\n",
    "                zero_cols.add(j)\n",
    "    for r in zero_rows:\n",
    "        for j in range(N):\n",
    "            A[r][j] = 0\n",
    "    for c in zero_cols:\n",
    "        for i in range(M):\n",
    "            A[i][c] = 0\n",
    "    return A\n",
    "            \n",
    "A1 = [[1, 2, 0], [4, 5, 6], [7, 8, 9]]\n",
    "assert set_zeros(A1) == [[0, 0, 0], [4, 5, 0], [7, 8, 0]]\n",
    "A2 = [[1, 2, 3], [4, 5, 6], [7, 8, 9]]\n",
    "assert set_zeros(A2) == [[1, 2, 3], [4, 5, 6], [7, 8, 9]]\n",
    "A3 = [[0, 0, 0], [4, 5, 6], [7, 8, 9]]\n",
    "assert set_zeros(A3) == [[0, 0, 0], [0, 0, 0], [0, 0, 0]]"
   ]
  },
  {
   "cell_type": "markdown",
   "metadata": {},
   "source": [
    "1.8 Assume you have a method isSubstring which checks if one word is a\n",
    "substring of another. Given two strings, s1 and s2, write code to check if s2 is\n",
    "a rotation of si using only one call to isSubstring (e.g.,\"waterbottle\"is a rota-\n",
    "tion of \"erbottlewat\")"
   ]
  },
  {
   "cell_type": "code",
   "execution_count": 22,
   "metadata": {
    "collapsed": false
   },
   "outputs": [],
   "source": [
    "# Checks if s2 is a rotation of s1\n",
    "def is_rotation(s1, s2):\n",
    "    if len(s1) != len(s2):\n",
    "        return False\n",
    "    return s1 in s2 + s2\n",
    "\n",
    "assert is_rotation(\"waterbottle\", \"erbottlewat\")\n",
    "assert not is_rotation(\"waterbottle\", \"erbottttlewat\")\n",
    "assert not is_rotation(\"ab\", \"abb\")"
   ]
  },
  {
   "cell_type": "code",
   "execution_count": null,
   "metadata": {
    "collapsed": true
   },
   "outputs": [],
   "source": []
  }
 ],
 "metadata": {
  "anaconda-cloud": {},
  "kernelspec": {
   "display_name": "Python [conda root]",
   "language": "python",
   "name": "conda-root-py"
  },
  "language_info": {
   "codemirror_mode": {
    "name": "ipython",
    "version": 3
   },
   "file_extension": ".py",
   "mimetype": "text/x-python",
   "name": "python",
   "nbconvert_exporter": "python",
   "pygments_lexer": "ipython3",
   "version": "3.5.2"
  }
 },
 "nbformat": 4,
 "nbformat_minor": 1
}
