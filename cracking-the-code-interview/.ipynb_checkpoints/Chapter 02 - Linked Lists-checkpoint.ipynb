{
 "cells": [
  {
   "cell_type": "markdown",
   "metadata": {},
   "source": [
    "Define a singly linked list"
   ]
  },
  {
   "cell_type": "code",
   "execution_count": 1,
   "metadata": {
    "collapsed": false
   },
   "outputs": [
    {
     "name": "stdout",
     "output_type": "stream",
     "text": [
      "1 2 3\n",
      "1 2 3\n"
     ]
    }
   ],
   "source": [
    "class Node:\n",
    "    def __init__(self, data, next=None):\n",
    "        self.data = data\n",
    "        self.next = next\n",
    "    \n",
    "    def __str__(self):\n",
    "        p = self\n",
    "        s = \"\"\n",
    "        while p:\n",
    "            s += \"{} \".format(p.data)\n",
    "            p = p.next\n",
    "        return s.rstrip()\n",
    "\n",
    "def cons(data, head=None):\n",
    "    return Node(data, head)\n",
    "\n",
    "def create_list(*data):\n",
    "    head = None\n",
    "    for i in range(len(data)-1, -1, -1):\n",
    "        head = cons(data[i], head)\n",
    "    return head\n",
    "\n",
    "head = cons(1, cons(2, cons(3, None)))\n",
    "print(head)\n",
    "head = create_list(1, 2, 3)\n",
    "print(head)"
   ]
  },
  {
   "cell_type": "markdown",
   "metadata": {},
   "source": [
    "1.1 Write code to remove duplicates from an unsorted linked list.\n",
    "FOLLOW UP\n",
    "How would you solve this problem if a temporary buffer is not allowed?"
   ]
  },
  {
   "cell_type": "code",
   "execution_count": 9,
   "metadata": {
    "collapsed": false
   },
   "outputs": [],
   "source": [
    "from collections import defaultdict\n",
    "\n",
    "# O(n)\n",
    "def remove_duplicates(l):\n",
    "    seen = defaultdict(lambda: False)\n",
    "    prev = None\n",
    "    while l:\n",
    "        if seen[l.data]:\n",
    "            prev.next = l.next\n",
    "        else:\n",
    "            seen[l.data] = True\n",
    "            prev = l\n",
    "        l = l.next\n",
    "\n",
    "# O(n^2)\n",
    "def remove_duplicates_no_extra_buffer(l):\n",
    "    while l:\n",
    "        l2 = l\n",
    "        while l2.next:\n",
    "            if l2.next.data == l.data:\n",
    "                l2.next = l2.next.next\n",
    "            else:\n",
    "                l2 = l2.next\n",
    "        l = l.next\n",
    "        \n",
    "l1 = create_list(1, 2, 2, 2, 3)\n",
    "l2 = create_list(1, 1, 1, 1)\n",
    "l3 = create_list(1, 2, 2, 3, 3, 2)\n",
    "\n",
    "remove_duplicates(l1)\n",
    "remove_duplicates(l2)\n",
    "remove_duplicates(l3)\n",
    "assert l1.__str__() == \"1 2 3\"\n",
    "assert l2.__str__() == \"1\"\n",
    "assert l3.__str__() == \"1 2 3\"\n",
    "\n",
    "l4 = create_list(1, 2, 2, 3, 3, 2)\n",
    "remove_duplicates_no_extra_buffer(l4)\n",
    "assert l4.__str__() == \"1 2 3\""
   ]
  },
  {
   "cell_type": "markdown",
   "metadata": {
    "collapsed": true
   },
   "source": [
    "2.2 Implement an algorithm to find the kth to last element of a singly linked list."
   ]
  },
  {
   "cell_type": "code",
   "execution_count": 18,
   "metadata": {
    "collapsed": false
   },
   "outputs": [],
   "source": [
    "# k=1 gives the last element\n",
    "def kth_last(l, k):\n",
    "    assert k > 0\n",
    "    l2 = l\n",
    "    steps = 0\n",
    "    while steps < k and l2:\n",
    "        steps += 1\n",
    "        l2 = l2.next\n",
    "    if steps < k:\n",
    "        return None\n",
    "    while l2:\n",
    "        l = l.next\n",
    "        l2 = l2.next\n",
    "    return l.data\n",
    "    \n",
    "assert kth_last(create_list(1, 2, 3, 4, 5, 6, 7, 8, 9), 3) == 7\n",
    "assert kth_last(create_list(1, 2, 3, 4, 5, 6, 7, 8, 9), 9) == 1\n",
    "assert kth_last(create_list(1), 3) == None\n",
    "assert kth_last(create_list(1, 2, 3), 3) == 1"
   ]
  },
  {
   "cell_type": "markdown",
   "metadata": {
    "collapsed": true
   },
   "source": [
    "2.3 Implement an algorithm to delete a node in the middle of a singly linked list,\n",
    "given only access to that node."
   ]
  },
  {
   "cell_type": "code",
   "execution_count": 45,
   "metadata": {
    "collapsed": false
   },
   "outputs": [],
   "source": [
    "# Can't reroute links before the node we are at so copy data from next and\n",
    "# skip the next node instead. O(1)\n",
    "def delete_mid_node(n):\n",
    "    if n and n.next:\n",
    "        n.data = n.next.data\n",
    "        n.next = n.next.next\n",
    "\n",
    "l = create_list(1, 2, 3, 4, 5)\n",
    "n = l.next.next # at 3\n",
    "delete_mid_node(n)\n",
    "assert l.__str__() == \"1 2 4 5\"\n",
    "\n",
    "# Can't delete single node\n",
    "l = create_list(1)\n",
    "delete_mid_node(l)\n",
    "assert l.__str__() == \"1\"\n",
    "\n",
    "# Can't delete last node\n",
    "l = create_list(1, 2, 3)\n",
    "n = l.next.next\n",
    "delete_mid_node(n)\n",
    "assert l.__str__() == \"1 2 3\""
   ]
  },
  {
   "cell_type": "markdown",
   "metadata": {},
   "source": [
    "2.4 Write code to partition a linked list around a value x, such that all nodes less than\n",
    "x come before all nodes greater than or equal to x."
   ]
  },
  {
   "cell_type": "code",
   "execution_count": 2,
   "metadata": {
    "collapsed": false
   },
   "outputs": [
    {
     "name": "stdout",
     "output_type": "stream",
     "text": [
      "1 2 3 4 5 6\n"
     ]
    }
   ],
   "source": [
    "def partition(l, x):\n",
    "    left, right = None, None\n",
    "    left_end = left\n",
    "    while l:\n",
    "        l_next = l.next\n",
    "        if l.data < x:\n",
    "            if left_end == None:\n",
    "                left_end = l\n",
    "            l.next = left\n",
    "            left = l\n",
    "        else:\n",
    "            l.next = right\n",
    "            right = l\n",
    "        l = l_next\n",
    "    \n",
    "    left_end.next = right\n",
    "    return left\n",
    "    \n",
    "l = create_list(6, 5, 4, 3, 2, 1)\n",
    "print(partition(l, 4))\n",
    "#TODO test"
   ]
  },
  {
   "cell_type": "markdown",
   "metadata": {
    "collapsed": true
   },
   "source": [
    "2.5 You have two numbers represented by a linked list, where each node contains a\n",
    "single digit. The digits are stored in reverse order, such that the 1's digit is at the\n",
    "head of the list. Write a function that adds the two numbers and returns the sum\n",
    "as a linked list. FOLLOW UP: Suppose the digits are stored in forward order. Repeat the above problem."
   ]
  },
  {
   "cell_type": "code",
   "execution_count": 25,
   "metadata": {
    "collapsed": false
   },
   "outputs": [
    {
     "name": "stdout",
     "output_type": "stream",
     "text": [
      "0 7 1 6\n",
      "6 5 9 2\n",
      "None\n"
     ]
    }
   ],
   "source": [
    "# Iterative implementation\n",
    "def sum_listnumbers(a, b):\n",
    "    head, end = None, None\n",
    "    carry = 0\n",
    "    while a or b:\n",
    "        res = (a.data if a else 0) + (b.data if b else 0) + carry\n",
    "        digit = res % 10\n",
    "        carry = res // 10\n",
    "        if not head:\n",
    "            head = Node(digit)\n",
    "            end = head\n",
    "        else:\n",
    "            end.next = Node(digit)\n",
    "            end = end.next\n",
    "        a = a.next if a else None\n",
    "        b = b.next if b else None\n",
    "        \n",
    "    if carry > 0:\n",
    "        end.next = Node(carry)\n",
    "    \n",
    "    return head\n",
    "\n",
    "# Recursive implementation\n",
    "def sum_listnumbers_rec(a, b):\n",
    "    def sum(a, b, carry):\n",
    "        if not a and not b:\n",
    "            return Node(carry) if carry > 0 else None\n",
    "        \n",
    "        res = (a.data if a else 0) + (b.data if b else 0) + carry\n",
    "        n = Node(res % 10)\n",
    "        n.next = sum(a.next if a else None, \n",
    "                     b.next if b else None, \n",
    "                     res // 10)\n",
    "        return n\n",
    "    \n",
    "    return sum(a, b, 0)\n",
    "\n",
    "a = create_list(7, 1, 6)\n",
    "b = create_list(5, 9, 2)\n",
    "assert sum_listnumbers(a, b).__str__() == \"2 1 9\"\n",
    "assert sum_listnumbers_rec(a, b).__str__() == \"2 1 9\"\n",
    "\n",
    "# 8+8 causes a carry that should be cared for after the lists are traversed\n",
    "a = create_list(1, 2, 8)\n",
    "b = create_list(1, 2, 8)\n",
    "assert sum_listnumbers(a, b).__str__() == \"2 4 6 1\"\n",
    "assert sum_listnumbers_rec(a, b).__str__() == \"2 4 6 1\"\n",
    "\n",
    "# Different length listnumbers\n",
    "a = create_list(5, 6)\n",
    "b = create_list(6, 7, 8, 9, 1, 2, 3)\n",
    "assert sum_listnumbers(a, b).__str__() == \"1 4 9 9 1 2 3\"\n",
    "assert sum_listnumbers_rec(a, b).__str__() == \"1 4 9 9 1 2 3\"\n"
   ]
  },
  {
   "cell_type": "code",
   "execution_count": 2,
   "metadata": {
    "collapsed": false
   },
   "outputs": [],
   "source": [
    "# Implementation of follow up question\n",
    "def sum_listnumbers_followup(a, b):\n",
    "    if not a and not b:\n",
    "        return None\n",
    "    \n",
    "    # Stores elements of a, b backwards\n",
    "    a_backwards, a_backwards_end = None, None\n",
    "    b_backwards, b_backwards_end = None, None\n",
    "    while a and b:\n",
    "        # Save next ones\n",
    "        a_next = a.next\n",
    "        b_next = b.next\n",
    "        \n",
    "        # TODO: maybe shouldn't mutate a and b\n",
    "        # Add currents to backwards lists\n",
    "        a.next = a_backwards\n",
    "        a_backwards = a\n",
    "        if not a_backwards_end:\n",
    "            a_backwards_end = a\n",
    "        b.next = b_backwards\n",
    "        b_backwards = b\n",
    "        if not b_backwards_end:\n",
    "            b_backwards_end = b\n",
    "            \n",
    "        # Step to next\n",
    "        a = a_next\n",
    "        b = b_next\n",
    "\n",
    "    # Handle remaining parts of the longer list, TODO: refactor maybe\n",
    "    if a:\n",
    "        while a:\n",
    "            a_next = a.next\n",
    "            a.next = a_backwards\n",
    "            a_backwards = a\n",
    "            b_backwards_end.next = Node(0) # Pad with zeros at end of list\n",
    "            b_backwards_end = b_backwards_end.next\n",
    "            a = a_next\n",
    "    else:\n",
    "        while b:\n",
    "            b_next = b.next\n",
    "            b.next = b_backwards\n",
    "            b_backwards = b\n",
    "            a_backwards_end.next = Node(0) # Pad with zeros at end of list\n",
    "            a_backwards_end = a_backwards_end.next\n",
    "            b = b_next\n",
    "    \n",
    "    # We know these are the same length now because of padding\n",
    "    head = None\n",
    "    carry = 0\n",
    "    while a_backwards and b_backwards:\n",
    "        res = a_backwards.data + b_backwards.data + carry\n",
    "        n = Node(res % 10)\n",
    "        carry = res // 10\n",
    "        n.next = head\n",
    "        head = n\n",
    "        a_backwards = a_backwards.next\n",
    "        b_backwards = b_backwards.next\n",
    "    \n",
    "    # Handle remaining carry\n",
    "    if carry > 0:\n",
    "        n = Node(carry)\n",
    "        n.next = head\n",
    "        head = n\n",
    "    \n",
    "    return head    \n",
    "\n",
    "a = create_list(6, 1, 7)\n",
    "b = create_list(2, 9, 5)\n",
    "assert sum_listnumbers_followup(a, b).__str__() == \"9 1 2\"\n",
    "    \n",
    "# Different length\n",
    "a = create_list(1, 2)\n",
    "b = create_list(1, 0, 0, 0, 5, 6)\n",
    "assert sum_listnumbers_followup(a, b).__str__() == \"1 0 0 0 6 8\"\n",
    "\n",
    "# Remaining carry at end\n",
    "a = create_list(9, 9)\n",
    "b = create_list(9, 9)\n",
    "assert sum_listnumbers_followup(a, b).__str__() == \"1 9 8\""
   ]
  },
  {
   "cell_type": "markdown",
   "metadata": {
    "collapsed": true
   },
   "source": [
    "2.6 Given a circular linked list, implement an algorithm which returns the node at\n",
    "the beginning of the loop. \n",
    "\n",
    "EXAMPLE\n",
    "Input: A - > B - > C - > D - > E - > C [the same C as earlier]\n",
    "Output: C"
   ]
  },
  {
   "cell_type": "code",
   "execution_count": 3,
   "metadata": {
    "collapsed": true
   },
   "outputs": [],
   "source": [
    "# TODO: use runner technique I guess? one fast, one slow"
   ]
  },
  {
   "cell_type": "markdown",
   "metadata": {},
   "source": [
    "2.7 Implement a function to check if a linked list is a palindrome"
   ]
  },
  {
   "cell_type": "code",
   "execution_count": 7,
   "metadata": {
    "collapsed": false
   },
   "outputs": [],
   "source": [
    "def is_palindrome(l):\n",
    "    backwards = None\n",
    "    p = l\n",
    "    while p:\n",
    "        n = Node(p.data, next=backwards)\n",
    "        backwards = n\n",
    "        p = p.next\n",
    "    # Check that they are same in both directions\n",
    "    p = backwards\n",
    "    while p and l:\n",
    "        if p.data != l.data:\n",
    "            return False\n",
    "        p = p.next\n",
    "        l = l.next\n",
    "    return True\n",
    "\n",
    "not_palindrome = create_list(1, 2, 3, 4, 5)\n",
    "palindrome = create_list(1, 2, 3, 2, 1)\n",
    "empty = create_list()\n",
    "single = create_list(1)\n",
    "assert not is_palindrome(not_palindrome)\n",
    "assert is_palindrome(palindrome)\n",
    "assert is_palindrome(empty)\n",
    "assert is_palindrome(single)"
   ]
  },
  {
   "cell_type": "code",
   "execution_count": null,
   "metadata": {
    "collapsed": true
   },
   "outputs": [],
   "source": []
  }
 ],
 "metadata": {
  "anaconda-cloud": {},
  "kernelspec": {
   "display_name": "Python [conda root]",
   "language": "python",
   "name": "conda-root-py"
  },
  "language_info": {
   "codemirror_mode": {
    "name": "ipython",
    "version": 3
   },
   "file_extension": ".py",
   "mimetype": "text/x-python",
   "name": "python",
   "nbconvert_exporter": "python",
   "pygments_lexer": "ipython3",
   "version": "3.5.2"
  }
 },
 "nbformat": 4,
 "nbformat_minor": 1
}
