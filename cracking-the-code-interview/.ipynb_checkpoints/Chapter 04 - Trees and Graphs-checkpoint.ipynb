{
 "cells": [
  {
   "cell_type": "markdown",
   "metadata": {},
   "source": [
    "Define a binary tree data structure."
   ]
  },
  {
   "cell_type": "code",
   "execution_count": 2,
   "metadata": {
    "collapsed": false
   },
   "outputs": [
    {
     "name": "stdout",
     "output_type": "stream",
     "text": [
      "                   __________________###1___________________                    \n",
      "                   |                                       |                   \n",
      "         ________###2                            ________###3_________          \n",
      "         |                                       |                   |         \n",
      "       ###1                                    ###4             ___###5____     \n",
      "                                                                |         |    \n",
      "                                                             _##55__   _###6__   \n",
      "                                                             |     |   |     | \n",
      "                                                            ##44 ##66 ##77 ##99\n"
     ]
    }
   ],
   "source": [
    "from collections import deque\n",
    "\n",
    "class BinaryTreeNode:\n",
    "    def __init__(self, data, left=None, right=None):\n",
    "        self.data = data\n",
    "        self.left = left\n",
    "        self.right = right\n",
    "        \n",
    "    def height(self):\n",
    "        left = self.left.height() if self.left else 0\n",
    "        right = self.right.height() if self.right else 0\n",
    "        return 1 + max(left, right)\n",
    "        \n",
    "    # TODO: rewrite this method when not tired\n",
    "    def __str__(self):\n",
    "        NODE_WIDTH = 4\n",
    "        NODE_SPACE = 1\n",
    "        h = self.height()\n",
    "        max_num_leaves = 2**(h-1)\n",
    "        total_width = max_num_leaves * NODE_WIDTH + (max_num_leaves - 1) * NODE_SPACE\n",
    "        \n",
    "        # Total space needed to print tree\n",
    "        s = [list(\" \" * total_width) for _ in range(h*2-1)]\n",
    "        \n",
    "        def build_string(t, li, ri, level):\n",
    "            data_str = str(t.data)[:NODE_WIDTH]\n",
    "            node_str = \"#\" * (NODE_WIDTH - len(data_str)) + data_str\n",
    "            \n",
    "            # Position of text\n",
    "            mi = li + (ri - li) // 2\n",
    "            s[level][mi-2:mi+2] = list(node_str)\n",
    "            \n",
    "            if t.left:\n",
    "                turn_idx = li + (mi-1-li) // 2\n",
    "                s[level][turn_idx:mi-2] = list(\"_\" * (mi-2-turn_idx))\n",
    "                s[level+1][turn_idx] = \"|\"\n",
    "                build_string(t.left, li, mi-0, level+2)\n",
    "            if t.right:\n",
    "                turn_idx = mi+1 + (ri - mi - 1) // 2\n",
    "                s[level][mi+2:turn_idx] = list(\"_\" * (turn_idx-mi-1))\n",
    "                s[level+1][turn_idx] = \"|\"\n",
    "                build_string(t.right, mi+1, ri, level+2)\n",
    "        \n",
    "        build_string(self, 0, total_width, 0)\n",
    "        \n",
    "        return \"\\n\".join([\"\".join(arr) for arr in s])\n",
    "            \n",
    "        \n",
    "# Shorthand\n",
    "T = BinaryTreeNode\n",
    "\n",
    "t = T(1, left=T(2), right=T(3, left=T(4), right=T(5)))\n",
    "assert t.height() == 3\n",
    "t.left.left = T(1) # Add node to left subtree, does not change height\n",
    "assert t.height() == 3\n",
    "t.right.right.right = T(6) # Add node to right subtree, increases height\n",
    "assert t.height() == 4\n",
    "\n",
    "t.right.right.right.right = T(99)\n",
    "t.right.right.right.left = T(77)\n",
    "t.right.right.left = T(55)\n",
    "t.right.right.left.right = T(66)\n",
    "t.right.right.left.left = T(44)\n",
    "print(t)"
   ]
  },
  {
   "cell_type": "markdown",
   "metadata": {},
   "source": [
    "Define graph data structures."
   ]
  },
  {
   "cell_type": "markdown",
   "metadata": {},
   "source": [
    "4.1 Implement a function to check if a binary tree is balanced. For the purposes of\n",
    "this question, a balanced tree is defined to be a tree such that the heights of the\n",
    "two subtrees of any node never differ by more than one."
   ]
  },
  {
   "cell_type": "code",
   "execution_count": 12,
   "metadata": {
    "collapsed": true
   },
   "outputs": [],
   "source": [
    "def is_balanced(t):\n",
    "    # TODO: balance usually means that the subtrees have to balanced as well, and cant just look at height\n",
    "    # add test for this too\n",
    "    #return abs(height(t.left) - height(t.right)) <= 1\n",
    "    return False\n",
    "\n",
    "t1 = T(1)\n",
    "assert is_balanced(t1)\n",
    "t2 = T(1, left=T(2))\n",
    "assert is_balanced(t2)\n",
    "t3 = T(1, right=T(2))\n",
    "assert is_balanced(t3)\n",
    "t4 = T(1, left=T(2, left=T(3), right=T(4)), right=T(5, left=T(6), right=T(7)))\n",
    "assert is_balanced(t4)\n",
    "t5 = T(1, left=T(2, left=T(3)))\n",
    "assert not is_balanced(t5)"
   ]
  },
  {
   "cell_type": "markdown",
   "metadata": {},
   "source": [
    "4.2 Given a directed graph, design an algorithm to find out whether there is a route\n",
    "between two nodes."
   ]
  },
  {
   "cell_type": "code",
   "execution_count": 27,
   "metadata": {
    "collapsed": false
   },
   "outputs": [
    {
     "data": {
      "text/plain": [
       "__main__.AdjacencyListGraph"
      ]
     },
     "execution_count": 27,
     "metadata": {},
     "output_type": "execute_result"
    }
   ],
   "source": [
    "from abc import ABCMeta, abstractmethod\n",
    "from collections import defaultdict\n",
    "\n",
    "class Graph(metaclass=ABCMeta):    \n",
    "    @abstractmethod\n",
    "    def add_node(self, u):\n",
    "        return\n",
    "    \n",
    "    @abstractmethod\n",
    "    def add_edge(self, u, v):\n",
    "        return\n",
    "    \n",
    "    @abstractmethod\n",
    "    def neighbors(self, u):\n",
    "        return\n",
    "    \n",
    "    @abstractmethod\n",
    "    def are_neighbors(self, u, v):\n",
    "        return\n",
    "    \n",
    "    \n",
    "class AdjacencyListGraph:\n",
    "    def __init__(self, edges):\n",
    "        self.adjacency_lists = defaultdict(list)\n",
    "        for e in edges:\n",
    "            #print(*e)\n",
    "            self.add_edge(*e)\n",
    "    \n",
    "    def add_node(self, u):\n",
    "        if u in self.adjacency_lists:\n",
    "            return\n",
    "        else:\n",
    "            self.adjacency_lists[u] = []\n",
    "    \n",
    "    def add_edge(self, u, v):\n",
    "        if v not in self.adjacency_lists[u]:\n",
    "            self.adjacency_lists[u].append(v)\n",
    "    \n",
    "    def neighbors(self, u):\n",
    "        return self.adjacency_lists[u] if u in self.adjacency_lists else []\n",
    "    \n",
    "    def are_neighbors(self, u, v):\n",
    "        return v in self.adjacency_lists[u] if u in self.adjacency_lists else False\n",
    "    \n",
    "Graph.register(AdjacencyListGraph)"
   ]
  },
  {
   "cell_type": "code",
   "execution_count": 29,
   "metadata": {
    "collapsed": false
   },
   "outputs": [],
   "source": [
    "from collections import deque\n",
    "def has_route(g, u, v):\n",
    "    # BFS, (DFS would also work)\n",
    "    q = deque()\n",
    "    q.append(u)\n",
    "    visited = {}\n",
    "    visited[u] = True\n",
    "    while q:\n",
    "        uu = q.popleft()\n",
    "        for vv in g.neighbors(uu):\n",
    "            if vv not in visited:\n",
    "                if vv == v:\n",
    "                    return True\n",
    "                visited[vv] = True\n",
    "                q.append(vv)\n",
    "    return False\n",
    "\n",
    "g1 = AdjacencyListGraph([(1, 2), (2, 3), (3, 4), (4, 5), (5, 6)])\n",
    "assert has_route(g1, 1, 6)\n",
    "\n",
    "g2 = AdjacencyListGraph([(1, 2), (2, 3), (4, 5), (5, 6)])\n",
    "assert not has_route(g2, 1, 6)"
   ]
  },
  {
   "cell_type": "markdown",
   "metadata": {},
   "source": [
    "4.3 Given a sorted (increasing order) array with unique integer elements, write an\n",
    "algorithm to create a binary search tree with minimal height."
   ]
  },
  {
   "cell_type": "code",
   "execution_count": 77,
   "metadata": {
    "collapsed": false
   },
   "outputs": [
    {
     "name": "stdout",
     "output_type": "stream",
     "text": [
      "    ___###3____     \n",
      "    |         |    \n",
      "  ###1_    _##13__   \n",
      "      |    |     | \n",
      "    ###2 ##10  ##99\n"
     ]
    }
   ],
   "source": [
    "# Keep pivoting at mid since A is sorted and thus both sides will have minimum depth.\n",
    "def to_bst(A):\n",
    "    def bst(low, high):\n",
    "        if low > high:\n",
    "            return None\n",
    "        elif low == high:\n",
    "            return T(A[high])\n",
    "        mid = low + (high - low) // 2\n",
    "        left = bst(low, mid-1)\n",
    "        right = bst(mid+1, high)\n",
    "        return T(A[mid], left=left, right=right)\n",
    "    return bst(0, len(A)-1)\n",
    "\n",
    "t = to_bst([1, 2, 3, 10, 13, 99])\n",
    "print(t)"
   ]
  },
  {
   "cell_type": "markdown",
   "metadata": {},
   "source": [
    "4.4 Given a binary tree, design an algorithm which creates a linked list of all the\n",
    "nodes at each depth (e.g., if you have a tree with depth D, you'll have D linked\n",
    "lists)."
   ]
  },
  {
   "cell_type": "code",
   "execution_count": 29,
   "metadata": {
    "collapsed": false
   },
   "outputs": [
    {
     "name": "stdout",
     "output_type": "stream",
     "text": [
      "         ________###5_________          \n",
      "         |                   |         \n",
      "    ___###3____         ___###8____      \n",
      "    |         |         |         |    \n",
      "  ###2      ###4      ###7     _###9   \n",
      "                               |       \n",
      "                              ##10     \n"
     ]
    }
   ],
   "source": [
    "from collections import deque, defaultdict, Counter\n",
    "def layer_lists(t):\n",
    "    layers = defaultdict(deque)\n",
    "    def traverse(t, layer):\n",
    "        if not t:\n",
    "            return\n",
    "        traverse(t.left, layer+1)\n",
    "        traverse(t.right, layer+1)\n",
    "        layers[layer].append(t.data)\n",
    "    \n",
    "    traverse(t, 1)\n",
    "    return layers\n",
    "\n",
    "t = T(5, left=T(3, left=T(2), right=T(4)), right=T(8, left=T(7), right=T(9, left=T(10))))\n",
    "print(t)\n",
    "layers = layer_lists(t)\n",
    "check = lambda layer, arr: Counter(layers[layer]) == Counter(arr)\n",
    "assert check(1, [5])\n",
    "assert check(2, [3, 8])\n",
    "assert check(3, [2, 4, 7, 9])\n",
    "assert check(4, [10])"
   ]
  },
  {
   "cell_type": "markdown",
   "metadata": {},
   "source": [
    "4.5 Implement a function to check if a binary tree is a binary search tree"
   ]
  },
  {
   "cell_type": "code",
   "execution_count": 7,
   "metadata": {
    "collapsed": false
   },
   "outputs": [],
   "source": [
    "import math\n",
    "\n",
    "def is_bst(t):\n",
    "    def check_bst(t, mn, mx):\n",
    "        if not t:\n",
    "            return True\n",
    "        if t.data < mn or t.data > mx:\n",
    "            return False\n",
    "        return check_bst(t.left, mn, t.data) and check_bst(t.right, t.data, mx)    \n",
    "    \n",
    "    return check_bst(t, -math.inf, math.inf)\n",
    "        \n",
    "\n",
    "t = T(5, left=T(3, left=T(2), right=T(4)), right=T(8, left=T(7), right=T(9)))\n",
    "assert is_bst(t)\n",
    "almost_bst = T(5, left=T(3, left=T(2), right=T(4)), right=T(8, left=T(4), right=T(9)))\n",
    "assert not is_bst(almost_bst)"
   ]
  },
  {
   "cell_type": "markdown",
   "metadata": {
    "collapsed": true
   },
   "source": [
    "4.6 Write an algorithm to find the *next* node (i.e., in-order successor) of a given node\n",
    "in a binary search tree. You may assume that each node has a link to its parent"
   ]
  },
  {
   "cell_type": "code",
   "execution_count": 5,
   "metadata": {
    "collapsed": false
   },
   "outputs": [
    {
     "name": "stdout",
     "output_type": "stream",
     "text": [
      "         ________###5_________          \n",
      "         |                   |         \n",
      "    ___###3____         ___###8____      \n",
      "    |         |         |         |    \n",
      "  ###2      ###4     _###7     _##10   \n",
      "                     |         |       \n",
      "                    ###6      ###9     \n"
     ]
    }
   ],
   "source": [
    "class BinaryTreeNodeWithParent(BinaryTreeNode):\n",
    "    def __init__(self, data, left=None, right=None):\n",
    "        super().__init__(data, left, right)\n",
    "        self.parent = None\n",
    "    \n",
    "    def set_parents(self):\n",
    "        def traverse(t, p):\n",
    "            if not t:\n",
    "                return\n",
    "            t.parent = p\n",
    "            traverse(t.left, t)\n",
    "            traverse(t.right, t)\n",
    "            \n",
    "        traverse(self, None)\n",
    "\n",
    "# Shorthand\n",
    "TP = BinaryTreeNodeWithParent      \n",
    "\n",
    "\n",
    "def tree_next(t):\n",
    "    if not t:\n",
    "        return None\n",
    "    \n",
    "    if t.right:\n",
    "        # If there is a right subtree, the next element is the leftmost node\n",
    "        # in that subtree\n",
    "        u = t.right\n",
    "        while u.left:\n",
    "            u = u.left\n",
    "        return u\n",
    "    else:\n",
    "        # Keep going up as long as t is the right child, then pick parent of that\n",
    "        while t.parent and t.parent.right == t:\n",
    "            t = t.parent\n",
    "        \n",
    "        return t.parent\n",
    "        \n",
    "\n",
    "t = TP(5, left=TP(3, left=TP(2), right=TP(4)), right=TP(8, left=TP(7, left=TP(6)), right=TP(10, left=TP(9))))\n",
    "t.set_parents()\n",
    "print(t)\n",
    "\n",
    "t2 = t.left.left\n",
    "t3 = t.left\n",
    "t4 = t.left.right\n",
    "t5 = t\n",
    "t6 = t.right.left.left\n",
    "t7 = t.right.left\n",
    "t8 = t.right\n",
    "t9 = t.right.right.left\n",
    "t10 = t.right.right\n",
    "assert tree_next(t2) == t3\n",
    "assert tree_next(t3) == t4\n",
    "assert tree_next(t4) == t5\n",
    "assert tree_next(t5) == t6\n",
    "assert tree_next(t6) == t7\n",
    "assert tree_next(t7) == t8\n",
    "assert tree_next(t8) == t9\n",
    "assert tree_next(t9) == t10\n",
    "assert tree_next(t10) == None\n",
    "assert tree_next(None) == None"
   ]
  },
  {
   "cell_type": "markdown",
   "metadata": {
    "collapsed": true
   },
   "source": [
    "4.7 Design an algorithm and write code to find the first common ancestor of two\n",
    "nodes in a binary tree. Avoid storing additional nodes in a data structure. NOTE:\n",
    "This is not necessarily a binary search tree."
   ]
  },
  {
   "cell_type": "code",
   "execution_count": 76,
   "metadata": {
    "collapsed": false
   },
   "outputs": [
    {
     "name": "stdout",
     "output_type": "stream",
     "text": [
      "         ________###5_________          \n",
      "         |                   |         \n",
      "    ___###3____         ___###8____      \n",
      "    |         |         |         |    \n",
      "  ###2      ###4     _###7     _##10   \n",
      "                     |         |       \n",
      "                    ###6      ###9     \n"
     ]
    }
   ],
   "source": [
    "# Stores no additional data\n",
    "def common_ancestor(t, u):\n",
    "    if not t or not u:\n",
    "        return None\n",
    "    if t == u:\n",
    "        return t\n",
    "    \n",
    "    # First find which layer t and u are in\n",
    "    tt = t\n",
    "    t_layer = 0\n",
    "    while tt:\n",
    "        t_layer +=1\n",
    "        tt = tt.parent\n",
    "    uu = u\n",
    "    u_layer = 0\n",
    "    while uu:\n",
    "        u_layer += 1\n",
    "        uu = uu.parent\n",
    "    \n",
    "    # Then climb the difference in layer with the lower node\n",
    "    layer_diff = abs(t_layer - u_layer)\n",
    "    low_node, high_node = (t, u) if t_layer >= u_layer else (u, t)\n",
    "    for _ in range(layer_diff):\n",
    "        low_node = low_node.parent\n",
    "    \n",
    "    # Then climb with both until they are the same\n",
    "    while low_node != high_node:\n",
    "        low_node = low_node.parent\n",
    "        high_node = high_node.parent\n",
    "    \n",
    "    return high_node\n",
    "        \n",
    "\n",
    "t = TP(5, left=TP(3, left=TP(2), right=TP(4)), right=TP(8, left=TP(7, left=TP(6)), right=TP(10, left=TP(9))))\n",
    "t.set_parents()\n",
    "print(t)\n",
    "\n",
    "t2 = t.left.left\n",
    "t3 = t.left\n",
    "t4 = t.left.right\n",
    "t5 = t\n",
    "t6 = t.right.left.left\n",
    "t7 = t.right.left\n",
    "t8 = t.right\n",
    "t9 = t.right.right.left\n",
    "t10 = t.right.right\n",
    "assert common_ancestor(t2, t4) == common_ancestor(t4, t2) == t3\n",
    "assert common_ancestor(t2, t7) == t5\n",
    "assert common_ancestor(t2, t9) == t5\n",
    "assert common_ancestor(t6, t9) == t8\n",
    "assert common_ancestor(t6, t8) == t8"
   ]
  },
  {
   "cell_type": "code",
   "execution_count": 77,
   "metadata": {
    "collapsed": true
   },
   "outputs": [],
   "source": [
    "def common_ancestor_with_additional_datastructure(t, u):\n",
    "    pass"
   ]
  },
  {
   "cell_type": "code",
   "execution_count": 78,
   "metadata": {
    "collapsed": true
   },
   "outputs": [],
   "source": [
    "def common_ancestor_without_parents(t, u):\n",
    "    pass"
   ]
  },
  {
   "cell_type": "markdown",
   "metadata": {},
   "source": [
    "4.8 You have two very large binary trees: Tl, with millions of nodes, and T2, with\n",
    "hundreds of nodes. Create an algorithm to decide ifT2 is a subtree of Tl.\n",
    "A tree T2 is a subtree of Tl if there exists a node n in Tl such that the subtree of\n",
    "n is identical to T2. That is, if you cut off the tree at node n, the two trees would\n",
    "be identical."
   ]
  },
  {
   "cell_type": "code",
   "execution_count": null,
   "metadata": {
    "collapsed": true
   },
   "outputs": [],
   "source": [
    "# TODO"
   ]
  },
  {
   "cell_type": "markdown",
   "metadata": {},
   "source": [
    "4.9 You are given a binary tree in which each node contains a value. Design an algorithm to print all paths which sum to a given value. The path does not need to\n",
    "start or end at the root or a leaf."
   ]
  },
  {
   "cell_type": "code",
   "execution_count": 94,
   "metadata": {
    "collapsed": false
   },
   "outputs": [
    {
     "name": "stdout",
     "output_type": "stream",
     "text": [
      "    ___###1____     \n",
      "    |         |    \n",
      " _###1     _###2   \n",
      " |         |       \n",
      "###1      ###5     \n",
      "['left', 'left', 'left']\n",
      "['left', 'left', 'right']\n",
      "['right', 'left']\n",
      "[]\n",
      "[]\n",
      "['right', 'right']\n"
     ]
    }
   ],
   "source": [
    "# TODO: not really right, but something like this I think\n",
    "def sum_paths(t, S):\n",
    "    def path(t, s, p):\n",
    "        if s == 0:\n",
    "            print(p)\n",
    "        if s < 0:\n",
    "            return\n",
    "        if not t:\n",
    "            return\n",
    "        path(t.left, s - t.data, p + [\"left\"]) # TODO: Better indication of path taken\n",
    "        path(t.left, s,  [])\n",
    "        path(t.right, s - t.data, p + [\"right\"])\n",
    "        path(t.right, s, [])\n",
    "    \n",
    "    path(t, S, [])\n",
    "\n",
    "t = T(1, left=T(1, left=T(1)), right=T(2, left=T(5)))\n",
    "print(t)\n",
    "sum_paths(t, 3)"
   ]
  },
  {
   "cell_type": "code",
   "execution_count": null,
   "metadata": {
    "collapsed": true
   },
   "outputs": [],
   "source": []
  }
 ],
 "metadata": {
  "anaconda-cloud": {},
  "kernelspec": {
   "display_name": "Python [conda root]",
   "language": "python",
   "name": "conda-root-py"
  },
  "language_info": {
   "codemirror_mode": {
    "name": "ipython",
    "version": 3
   },
   "file_extension": ".py",
   "mimetype": "text/x-python",
   "name": "python",
   "nbconvert_exporter": "python",
   "pygments_lexer": "ipython3",
   "version": "3.5.2"
  }
 },
 "nbformat": 4,
 "nbformat_minor": 1
}
