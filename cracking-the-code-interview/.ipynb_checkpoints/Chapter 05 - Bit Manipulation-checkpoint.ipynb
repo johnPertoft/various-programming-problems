{
 "cells": [
  {
   "cell_type": "markdown",
   "metadata": {},
   "source": [
    "I am switching to c for these assignments since python's integers are not fixed width which makes things unnecessarily difficult in some tasks. If you want to run this notebook, a c kernel for jupyter is necessary. I used [this one](https://github.com/brendan-rius/jupyter-c-kernel)."
   ]
  },
  {
   "cell_type": "markdown",
   "metadata": {
    "collapsed": true
   },
   "source": [
    "5.1 You are given two 32-bit numbers, N and M, and two bit positions, land j. Write\n",
    "a method to insert M into N such that M starts at bit j and ends at bit i. You can\n",
    "assume that the bits j through i have enough space to fit all of M. That is, if\n",
    "M = 10011, you can assume that there are at least 5 bits between j and i. You\n",
    "would not, for example, have j = 3 and i = 2, because M could not fully fit\n",
    "between bit 3 and bit 2."
   ]
  },
  {
   "cell_type": "code",
   "execution_count": 1,
   "metadata": {
    "collapsed": false
   },
   "outputs": [
    {
     "name": "stderr",
     "output_type": "stream",
     "text": []
    },
    {
     "name": "stdout",
     "output_type": "stream",
     "text": [
      "2124"
     ]
    }
   ],
   "source": [
    "#include <stdio.h>\n",
    "#include <inttypes.h>\n",
    "#include <assert.h>\n",
    "\n",
    "uint32_t insert(uint32_t N, uint32_t M, uint8_t start, uint8_t end) {\n",
    "    assert(start <= end);\n",
    "    uint8_t bit_positions = end - start + 1;\n",
    "    assert(M <= (1 << bit_positions) - 1);\n",
    "    \n",
    "    // Shift the bits from M into starting position\n",
    "    uint32_t M_mask = M << start;\n",
    "    \n",
    "    // Create some ones to cover start to end interval.\n",
    "    uint32_t ones_interval = ((1 << bit_positions) - 1);\n",
    "    // Then shift them up to starting position and then flip \n",
    "    // all bits to have zeros for the start to end interval, \n",
    "    // e.g. like 111100000111111\n",
    "    uint32_t zero_mask = ~(ones_interval << start);\n",
    "    // TODO: what if M does not cover the whole interval? should we still zero out?\n",
    "    // if not check how many bits M actually needs\n",
    "    \n",
    "    // Zero out the bits in N in the specified interval by ANDing with the\n",
    "    // zero-mask. Then set the bits of M by ORing M_mask with the result.\n",
    "    uint32_t result = (N & zero_mask) | M_mask;\n",
    "    return result;\n",
    "}\n",
    "\n",
    "int main() {\n",
    "    uint32_t res = insert(1 << 11, 19, 2, 6);\n",
    "    printf(\"%u\", res);\n",
    "    //assert(1 == 1);\n",
    "    // TODO: write tests for this\n",
    "}"
   ]
  },
  {
   "cell_type": "markdown",
   "metadata": {
    "collapsed": true
   },
   "source": [
    "5.2 Given a real number between 0 and 1 (e.g., 0.72) that is passed in as a double,\n",
    "print the binary representation. If the number cannot be represented accurately\n",
    "in binary with at most 32 characters, print \"ERROR."
   ]
  },
  {
   "cell_type": "code",
   "execution_count": 2,
   "metadata": {
    "collapsed": false
   },
   "outputs": [
    {
     "name": "stderr",
     "output_type": "stream",
     "text": []
    },
    {
     "name": "stdout",
     "output_type": "stream",
     "text": [
      ".1011111"
     ]
    }
   ],
   "source": [
    "#include <stdlib.h>\n",
    "#include <stdio.h>\n",
    "#include <inttypes.h>\n",
    "#include <assert.h>\n",
    "\n",
    "char* binary_radix_representation(double real) {\n",
    "    assert(real > 0.0 && real < 1.0);\n",
    "    \n",
    "    char* res = (char*) malloc(34);\n",
    "    res[0] = '.';\n",
    "    uint8_t i = 1;\n",
    "    double neg_two_power = 0.5;\n",
    "    while (real > 0) {\n",
    "        if (i >= 32) {\n",
    "            return \"ERROR\";\n",
    "        }\n",
    "    \n",
    "        if (real >= neg_two_power) {\n",
    "            real = real - neg_two_power;\n",
    "            res[i] = '1';\n",
    "        } else {\n",
    "            res[i] = '0';\n",
    "        }\n",
    "        i++;\n",
    "        neg_two_power = neg_two_power / 2;\n",
    "    }\n",
    "    \n",
    "    res[i] = '\\0';\n",
    "    return res;\n",
    "}\n",
    "\n",
    "int main() {\n",
    "    printf(\"%s\", binary_radix_representation(1.0/2 + 1.0/8 + 1.0/16 + 1.0/32 + 1.0/64 + 1.0/128));\n",
    "}"
   ]
  },
  {
   "cell_type": "markdown",
   "metadata": {},
   "source": [
    "5.3 Given a positive integer, print the next smallest and the next largest number that\n",
    "have the same number of 1 bits in their binary representation"
   ]
  },
  {
   "cell_type": "code",
   "execution_count": 12,
   "metadata": {
    "collapsed": false
   },
   "outputs": [
    {
     "name": "stderr",
     "output_type": "stream",
     "text": []
    },
    {
     "name": "stdout",
     "output_type": "stream",
     "text": [
      "0\n",
      "3758096384"
     ]
    }
   ],
   "source": [
    "#include <stdlib.h>\n",
    "#include <stdio.h>\n",
    "#include <inttypes.h>\n",
    "#include <assert.h>\n",
    "\n",
    "/*\n",
    " Here I assume that they mean the smallest and largest numbers in the interval\n",
    " n < x <= 2^32 - 1 that also have the same number of bits set as n.\n",
    " \n",
    " Returns two the smallest and largest 32 bit numbers as one 64 bit number. The largest number\n",
    " in the higher bits.\n",
    "*/\n",
    "uint64_t next_smallest_and_largest(uint32_t n) {\n",
    "    // TODO: what if n is already the largest number with that number of bits set?\n",
    "\n",
    "    // Count the number of ones\n",
    "    uint32_t m = n;\n",
    "    uint8_t num_bits = 0;\n",
    "    while (m > 0) {\n",
    "        if (m & 1) num_bits++;\n",
    "        m = m >> 1;\n",
    "    }\n",
    "    \n",
    "    // Get the largest by setting the num_bits most significant bits to 1.\n",
    "    uint32_t next_largest = ((1 << num_bits) - 1) << (32 - num_bits);\n",
    "    \n",
    "    // TODO\n",
    "    uint32_t next_smallest = 0;\n",
    "    \n",
    "    return (((uint64_t) next_largest) << 32) | ((uint64_t) next_smallest);\n",
    "}\n",
    "\n",
    "int main() {\n",
    "    uint64_t res = next_smallest_and_largest(7);\n",
    "    uint32_t next_smallest = (uint32_t) (res & 0xffffffff);\n",
    "    uint32_t next_largest = (uint32_t) (res >> 32);\n",
    "    \n",
    "    printf(\"%u\\n%u\", next_smallest, next_largest);\n",
    "}"
   ]
  },
  {
   "cell_type": "code",
   "execution_count": null,
   "metadata": {
    "collapsed": true
   },
   "outputs": [],
   "source": []
  }
 ],
 "metadata": {
  "anaconda-cloud": {},
  "kernelspec": {
   "display_name": "C",
   "language": "c",
   "name": "c_spec"
  },
  "language_info": {
   "file_extension": "c",
   "mimetype": "text/plain",
   "name": "c"
  }
 },
 "nbformat": 4,
 "nbformat_minor": 1
}
