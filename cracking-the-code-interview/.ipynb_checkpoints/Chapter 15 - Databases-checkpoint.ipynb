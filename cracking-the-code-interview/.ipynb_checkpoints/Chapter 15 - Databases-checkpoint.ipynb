{
 "cells": [
  {
   "cell_type": "code",
   "execution_count": 1,
   "metadata": {
    "collapsed": false
   },
   "outputs": [],
   "source": [
    "import contextlib\n",
    "import sqlite3\n",
    "\n",
    "# Setup a database for questions 1 to 3\n",
    "@contextlib.contextmanager\n",
    "def setup_database():\n",
    "    conn = sqlite3.connect(\":memory:\")\n",
    "    c = conn.cursor()\n",
    "    c.execute(\"CREATE TABLE Apartments (AptID integer unique, UnitNumber text, BuildingID integer)\")\n",
    "    c.execute(\"CREATE TABLE Buildings (BuildingID integer unique, ComplexID integer, BuildingName text, Address text)\")\n",
    "    c.execute(\"CREATE TABLE Tenants (TenantID integer unique, TenantName text)\")\n",
    "    c.execute(\"CREATE TABLE Complexes (ComplexID integer unique, ComplexName text)\")\n",
    "    c.execute(\"CREATE TABLE AptTenants (TenantID integer, AptID integer)\")\n",
    "    c.execute(\"CREATE TABLE Requests (RequestID integer unique, Status text, AptID integer, Description text)\")\n",
    "    yield c, conn\n",
    "    \n",
    "    # Clean up\n",
    "    conn.close()\n",
    "    \n",
    "def fill_database(c, conn):\n",
    "    # Tenants\n",
    "    c.execute(\"INSERT INTO Tenants VALUES (1, 'Alice')\")\n",
    "    c.execute(\"INSERT INTO Tenants VALUES (2, 'Bob')\")\n",
    "    c.execute(\"INSERT INTO Tenants VALUES (3, 'Eve')\")\n",
    "    \n",
    "    # Complexes\n",
    "    c.execute(\"INSERT INTO Complexes VALUEs (1, 'Complex1')\")\n",
    "    \n",
    "    # Buildings\n",
    "    c.execute(\"INSERT INTO Buildings VALUES (1, 1, 'Building1', 'Address1')\")\n",
    "    c.execute(\"INSERT INTO Buildings VALUES (2, 1, 'Building2', 'Address2')\")\n",
    "    \n",
    "    # Apartments\n",
    "    c.execute(\"INSERT INTO Apartments VALUES (1, 'Unitnumber1', 1)\")\n",
    "    c.execute(\"INSERT INTO Apartments VALUES (2, 'Unitnumber2', 1)\")\n",
    "    c.execute(\"INSERT INTO Apartments VALUES (3, 'Unitnumber3', 1)\")\n",
    "    c.execute(\"INSERT INTO Apartments VALUES (4, 'Unitnumber4', 2)\")\n",
    "    c.execute(\"INSERT INTO Apartments VALUES (5, 'Unitnumber5', 2)\")\n",
    "    \n",
    "    # Who's renting what\n",
    "    c.execute(\"INSERT INTO AptTenants VALUES (1, 1)\")\n",
    "    c.execute(\"INSERT INTO AptTenants VALUES (1, 4)\")\n",
    "    c.execute(\"INSERT INTO AptTenants VALUES (2, 2)\")\n",
    "    c.execute(\"INSERT INTO AptTenants VALUES (3, 5)\")\n",
    "    \n",
    "    # Requests\n",
    "    c.execute(\"INSERT INTO Requests VALUES (1, 'Open', 3, 'Description1')\")\n",
    "    c.execute(\"INSERT INTO Requests VALUES (2, 'Open', 4, 'Description2')\")\n",
    "    c.execute(\"INSERT INTO Requests VALUES (3, 'Open', 4, 'Description3')\")\n",
    "    c.execute(\"INSERT INTO Requests VALUES (4, 'Closed', 4, 'Description4')\")\n",
    "    c.execute(\"INSERT INTO Requests VALUES (5, 'Open', 5, 'Description5')\")\n",
    "    \n",
    "    conn.commit()"
   ]
  },
  {
   "cell_type": "markdown",
   "metadata": {},
   "source": [
    "15.1 Write a SQL query to get a list of tenants who are renting more than one apartment"
   ]
  },
  {
   "cell_type": "code",
   "execution_count": 9,
   "metadata": {
    "collapsed": false
   },
   "outputs": [],
   "source": [
    "# TODO: database is not being deleted half the time, why?\n",
    "with setup_database() as (c, conn):\n",
    "    fill_database(c, conn)\n",
    "    c.execute(\"\"\"\n",
    "    SELECT TenantName, TenantID\n",
    "    FROM Tenants \n",
    "    INNER JOIN (\n",
    "        SELECT TenantID as t, count(AptID) as num_apts \n",
    "        FROM AptTenants \n",
    "        GROUP BY TenantID) \n",
    "    ON Tenants.TenantID == t\n",
    "    WHERE num_apts > 1\"\"\")\n",
    "    results = c.fetchall()\n",
    "    assert len(results) == 1\n",
    "    assert results[0] == (\"Alice\", 1)"
   ]
  },
  {
   "cell_type": "markdown",
   "metadata": {},
   "source": [
    "15.2 Write a SQL query to get a list of all buildings and the number of open requests\n",
    "(Requests in which status equals 'Open')."
   ]
  },
  {
   "cell_type": "code",
   "execution_count": 30,
   "metadata": {
    "collapsed": false
   },
   "outputs": [],
   "source": [
    "with setup_database() as (c, conn):\n",
    "    fill_database(c, conn)\n",
    "    c.execute(\"\"\"\n",
    "    SELECT Buildings.BuildingID, BuildingName, count(Buildings.BuildingID)\n",
    "    FROM (\n",
    "        SELECT BuildingID as bid\n",
    "        FROM Requests \n",
    "        INNER JOIN Apartments \n",
    "        ON Requests.AptID == Apartments.AptID\n",
    "        WHERE Status == 'Open')\n",
    "    INNER JOIN Buildings\n",
    "    ON Buildings.BuildingID == bid\n",
    "    GROUP BY Buildings.BuildingID\n",
    "    ORDER BY Buildings.BuildingID ASC\n",
    "    \"\"\")\n",
    "    results = c.fetchall()\n",
    "    assert len(results) == 2\n",
    "    assert results[0][2] == 1 # 1 open request\n",
    "    assert results[1][2] == 3 # 3 open requests"
   ]
  },
  {
   "cell_type": "markdown",
   "metadata": {},
   "source": [
    "15.3 Building #2 is undergoing a major renovation. Implement a query to close all\n",
    "requests from apartments in this building."
   ]
  },
  {
   "cell_type": "code",
   "execution_count": 29,
   "metadata": {
    "collapsed": false
   },
   "outputs": [],
   "source": [
    "with setup_database() as (c, conn):\n",
    "    fill_database(c, conn)\n",
    "    c.execute(\"\"\"\n",
    "    UPDATE Requests\n",
    "    SET Status = 'Closed'\n",
    "    WHERE Requests.AptID IN (\n",
    "        SELECT distinct(Apartments.AptID)\n",
    "        FROM Requests \n",
    "        INNER JOIN Apartments \n",
    "        ON Requests.AptID == Apartments.AptID\n",
    "        WHERE Apartments.BuildingID == 2)\n",
    "    \"\"\")\n",
    "    \n",
    "    # Then check that the correct updates were made\n",
    "    c.execute(\"SELECT * FROM Requests WHERE AptID IN (4, 5)\") # Only apartments with IDs 4 and 5 are in building 2\n",
    "    results = c.fetchall()\n",
    "    assert all([r[1] == \"Closed\" for r in results]) "
   ]
  },
  {
   "cell_type": "markdown",
   "metadata": {},
   "source": [
    "15.4 What are the different types of joins? Please explain how they differ and why\n",
    "certain types are better in certain situation"
   ]
  },
  {
   "cell_type": "markdown",
   "metadata": {},
   "source": [
    "* INNER JOIN (JOIN) returns each pair of rows in table 1 and table 2 that satisfies the join predicate.\n",
    "* LEFT OUTER JOIN returns each row of table 1 paired with a row from table 2 if they satisfy the join predicate otherwise paired with null values.\n",
    "* RIGHT OUTER JOIN is the same as LEFT OUTER JOIN but vice versa.\n",
    "* FULL OUTER JOIN returns all rows from both tables and matches them where possible and otherwise fills out with null values.\n",
    "* CROSS JOIN is the cross product of all rows in the tables, i.e. all possible pairs.\n",
    "\n",
    "When to use which depends on the task at hand, I suppose INNER JOIN would be better when the null values from an outer join could not be interpreted as something useable. But let's say we want to compute the monthly salaries for sales employees that might have some sales commision stored in another table. Then we could use an outer join on the Employees table (with base salary information) and Commisions table and interpret null values (from no commision for some employees) as a zero."
   ]
  },
  {
   "cell_type": "markdown",
   "metadata": {},
   "source": [
    "15.5 What is denormalization? Explain the pros and cons"
   ]
  },
  {
   "cell_type": "markdown",
   "metadata": {},
   "source": [
    "Normalized databases are designed to minimize redundancy, i.e. to not save the same information in more than necessary places. Denormalization is designed to instead minimize read speed. The expensive read times usually stem from joins. Denormalization thus stores information (a part from key information that connects tables) in more than one place to remove the need for joins on many common queries.\n",
    "\n",
    "The pros of normalization is that updating or inserting new rows is easier and that it takes less space (although space is pretty cheap now so this is less of an advantage I guess). The advantage of denormalization is that it scales better since it reduces the need for joins which are expensive in complexity."
   ]
  },
  {
   "cell_type": "markdown",
   "metadata": {},
   "source": [
    "15.6 Draw an entity-relationship diagram for a database with companies, people, and\n",
    "professionals (people who work for companies)."
   ]
  },
  {
   "cell_type": "code",
   "execution_count": null,
   "metadata": {
    "collapsed": true
   },
   "outputs": [],
   "source": []
  },
  {
   "cell_type": "markdown",
   "metadata": {},
   "source": [
    "15.7 Imagine a simple database storing information for students' grades. Design\n",
    "what this database might look like and provide a SQL query to return a list of the\n",
    "honor roll students (top 10%), sorted by their grade point average"
   ]
  },
  {
   "cell_type": "code",
   "execution_count": 70,
   "metadata": {
    "collapsed": false
   },
   "outputs": [],
   "source": [
    "import random\n",
    "import math\n",
    "\n",
    "@contextlib.contextmanager\n",
    "def setup_and_fill_db():\n",
    "    conn = sqlite3.connect(\":memory:\")\n",
    "    c = conn.cursor()\n",
    "    c.execute(\"CREATE TABLE Students (StudentID integer unique, StudentName text)\")\n",
    "    c.execute(\"CREATE TABLE Courses (CourseID integer unique, CourseName text)\")\n",
    "    c.execute(\"CREATE TABLE Grades (StudentID integer, CourseID integer, Grade real)\")\n",
    "\n",
    "    # Create some courses\n",
    "    course_ids = list(range(1, 101))\n",
    "    courses = [(i, \"Course{}\".format(i)) for i in course_ids]\n",
    "    c.executemany(\"INSERT INTO Courses VALUES (?, ?)\", courses)\n",
    "\n",
    "    # Create some students\n",
    "    student_ids = list(range(1, 1001))\n",
    "    students = [(i, \"Student{}\".format(i)) for i in student_ids]\n",
    "    c.executemany(\"INSERT INTO Students VALUES (?, ?)\", students)\n",
    "\n",
    "    # Give each student some grades independently random\n",
    "    grade_points = [4.00, 3.70, 3.33, 3.00, 2.70, 2.30, 2.00, 1.70, 1.30, 1.00, 0.70, 0.0]\n",
    "    for i in student_ids:\n",
    "        num_courses_taken = random.randint(10, 15)\n",
    "        courses_taken = sorted(random.sample(course_ids, num_courses_taken))\n",
    "        graded_courses = zip([i] * num_courses_taken, \n",
    "                             courses_taken, \n",
    "                             [random.choice(grade_points) for _ in range(num_courses_taken)])\n",
    "        c.executemany(\"INSERT INTO Grades VALUES (?, ?, ?)\", graded_courses)\n",
    "    \n",
    "    yield c\n",
    "    conn.close()\n",
    "\n",
    "with setup_and_fill_db() as c:\n",
    "    # Easy way but doesn't handle the case where students have the same gpa\n",
    "    # and would cause some students to get cut off even if they have the same gpa as\n",
    "    # other students on the honor roll which would not be fair.\n",
    "    c.execute(\"\"\"\n",
    "    SELECT StudentID, avg(Grade) AS gpa\n",
    "    FROM Grades\n",
    "    GROUP BY StudentID\n",
    "    ORDER BY gpa DESC\n",
    "    LIMIT (SELECT count(*) * 0.1 FROM Students)\n",
    "    \"\"\")\n",
    "    \n",
    "    # Instead we take the top 10% of the distinct grades and then pick all students\n",
    "    # with a gpa equal or higher than the minimum gpa of the top 10%.\n",
    "    \n",
    "    # TODO: many of these queries look very similar, can they be combined in a smart way?\n",
    "    # Would be nice to have access to the count of rows directly so that we can use it in LIMIT\n",
    "    # but doesnt seem possible in sqlite at least\n",
    "    \n",
    "    num_distinct_gpas = c.execute(\"\"\"\n",
    "    SELECT count(gpa)\n",
    "    FROM (\n",
    "        SELECT DISTINCT avg(Grade) as gpa\n",
    "        FROM Grades\n",
    "        GROUP BY StudentID\n",
    "        ORDER BY gpa DESC)\n",
    "    \"\"\").fetchone()[0]\n",
    "    \n",
    "    gpa_cutoff = c.execute(\"\"\"\n",
    "    SELECT min(gpa)\n",
    "    FROM (\n",
    "        SELECT DISTINCT avg(Grade) as gpa\n",
    "        FROM Grades\n",
    "        GROUP BY StudentID\n",
    "        ORDER BY gpa DESC\n",
    "        LIMIT ?)\n",
    "    \"\"\", (math.ceil(num_distinct_gpas * 0.1), )).fetchone()[0]\n",
    "    \n",
    "    results = c.execute(\"\"\"\n",
    "    SELECT StudentName, sid, gpa\n",
    "    FROM (\n",
    "        SELECT StudentID AS sid, avg(Grade) AS gpa\n",
    "        FROM Grades\n",
    "        GROUP BY StudentID\n",
    "        HAVING gpa >= ?\n",
    "        ORDER BY gpa DESC)\n",
    "    INNER JOIN Students\n",
    "    ON Students.StudentID = sid\n",
    "    \"\"\", (gpa_cutoff,)).fetchall()\n",
    " \n",
    "    assert all(0 <= gpa <= 4.0 for _, _, gpa in results)"
   ]
  },
  {
   "cell_type": "code",
   "execution_count": null,
   "metadata": {
    "collapsed": true
   },
   "outputs": [],
   "source": []
  }
 ],
 "metadata": {
  "anaconda-cloud": {},
  "kernelspec": {
   "display_name": "Python [conda root]",
   "language": "python",
   "name": "conda-root-py"
  },
  "language_info": {
   "codemirror_mode": {
    "name": "ipython",
    "version": 3
   },
   "file_extension": ".py",
   "mimetype": "text/x-python",
   "name": "python",
   "nbconvert_exporter": "python",
   "pygments_lexer": "ipython3",
   "version": "3.5.2"
  }
 },
 "nbformat": 4,
 "nbformat_minor": 1
}
