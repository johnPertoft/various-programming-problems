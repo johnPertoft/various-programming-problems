{
 "cells": [
  {
   "cell_type": "markdown",
   "metadata": {
    "collapsed": true
   },
   "source": [
    "17.1 Write a function to swap a number in place (that is, without temporary variables)"
   ]
  },
  {
   "cell_type": "code",
   "execution_count": 1,
   "metadata": {
    "collapsed": false
   },
   "outputs": [],
   "source": [
    "a, b = 13, 37\n",
    "\n",
    "# Swap\n",
    "a = b - a\n",
    "b = b - a\n",
    "a = a + b\n",
    "\n",
    "assert a == 37\n",
    "assert b == 13"
   ]
  },
  {
   "cell_type": "markdown",
   "metadata": {},
   "source": [
    "17.2 Design an algorithm to figure out if someone has won a game of tic-tac-toe"
   ]
  },
  {
   "cell_type": "code",
   "execution_count": 10,
   "metadata": {
    "collapsed": false
   },
   "outputs": [],
   "source": [
    "# General for H x W board\n",
    "def tictactoe_gameover(board, p1, p2, WIN):\n",
    "    \"\"\"General solution for H x W board.\n",
    "    \n",
    "    Solved with one pass of the cell\n",
    "    \"\"\"\n",
    "    assert p1 != 0 and p2 != 0\n",
    "    assert p1 != p2\n",
    "    assert WIN > 0\n",
    "    \n",
    "    H, W = len(board), len(board[0])\n",
    "    \n",
    "    current_horizontal_p1 = [0] * H\n",
    "    current_horizontal_p2 = [0] * H\n",
    "    current_vertical_p1 = [0] * W\n",
    "    current_vertical_p2 = [0] * W\n",
    "    current_diagonal_p1 = [0] * (H + W - 1) # Note: not all of these diagonals can actually hold WIN numbers anyway\n",
    "    current_diagonal_p2 = [0] * (H + W - 1)\n",
    "    current_antidiagonal_p1 = [0] * (H + W - 1)\n",
    "    current_antidiagonal_p2 = [0] * (H + W - 1)\n",
    "    \n",
    "    diagonal_idx = lambda i, j: j - i # This works because of negative indexing in python\n",
    "    antidiagonal_idx = lambda i, j: i + j\n",
    "    \n",
    "    for i in range(H):\n",
    "        for j in range(W):\n",
    "            # Indexes of the diagonal and antidiagonal we are on currently\n",
    "            diag_idx = diagonal_idx(i, j)\n",
    "            adiag_idx = antidiagonal_idx(i, j)\n",
    "            \n",
    "            if not board[i][j]:\n",
    "                # Reset all current counts\n",
    "                current_horizontal_p1[i] = 0\n",
    "                current_horizontal_p2[i] = 0\n",
    "                current_vertical_p1[j] = 0\n",
    "                current_vertical_p2[j] = 0\n",
    "                current_diagonal_p1[diag_idx] = 0\n",
    "                current_diagonal_p2[diag_idx] = 0\n",
    "                current_antidiagonal_p1[adiag_idx] = 0\n",
    "                current_antidiagonal_p2[adiag_idx] = 0\n",
    "                continue\n",
    "            \n",
    "            if board[i][j] == p1:\n",
    "                current_horizontal_p1[i] += 1\n",
    "                current_horizontal_p2[i] = 0\n",
    "                if current_horizontal_p1[i] == WIN:\n",
    "                    return p1\n",
    "                \n",
    "                current_vertical_p1[j] += 1\n",
    "                current_vertical_p2[j] = 0\n",
    "                if current_vertical_p1[j] == WIN:\n",
    "                    return p1\n",
    "                \n",
    "                current_diagonal_p1[diag_idx] += 1\n",
    "                current_diagonal_p2[diag_idx] = 0\n",
    "                if current_diagonal_p1[diag_idx] == WIN:\n",
    "                    return p1\n",
    "                \n",
    "                current_antidiagonal_p1[adiag_idx] += 1\n",
    "                current_antidiagonal_p2[adiag_idx] = 0\n",
    "                if current_antidiagonal_p1[adiag_idx] == WIN:\n",
    "                    return p1\n",
    "                \n",
    "            elif board[i][j] == p2:\n",
    "                current_horizontal_p2[i] += 1\n",
    "                current_horizontal_p1[i] = 0\n",
    "                if current_horizontal_p2[i] == WIN:\n",
    "                    return p2\n",
    "                \n",
    "                current_vertical_p2[j] += 1\n",
    "                current_vertical_p1[j] = 0\n",
    "                if current_vertical_p2[j] == WIN:\n",
    "                    return p2\n",
    "                \n",
    "                current_diagonal_p2[diag_idx] += 1\n",
    "                current_diagonal_p1[diag_idx] = 0\n",
    "                if current_diagonal_p2[diag_idx] == WIN:\n",
    "                    return p2\n",
    "                \n",
    "                current_antidiagonal_p2[adiag_idx] += 1\n",
    "                current_antidiagonal_p1[adiag_idx] = 0\n",
    "                if current_antidiagonal_p2[adiag_idx] == WIN:\n",
    "                    return p2\n",
    "                \n",
    "    return 0 # Game was a draw if here\n",
    "\n",
    "\n",
    "P1 = 1\n",
    "P2 = 2\n",
    "WIN = 3\n",
    "\n",
    "winner = lambda board: tictactoe_gameover(board, P1, P2, WIN)\n",
    "\n",
    "# Win with horizontal\n",
    "board1 = [\n",
    "    [0, 0, 0],\n",
    "    [1, 1, 1],\n",
    "    [2, 2, 0]\n",
    "]\n",
    "assert winner(board1) == P1\n",
    "\n",
    "# Win with vertical\n",
    "board2 = [\n",
    "    [2, 1, 0],\n",
    "    [2, 1, 0],\n",
    "    [0, 1, 0]\n",
    "]\n",
    "assert winner(board2) == P1\n",
    "\n",
    "# Win with diagonal\n",
    "board3 = [\n",
    "    [1, 0, 2],\n",
    "    [0, 1, 2],\n",
    "    [0, 0, 1]\n",
    "]\n",
    "assert winner(board3) == P1\n",
    "\n",
    "# Win with antidiagonal\n",
    "board4 = [\n",
    "    [0, 0, 1],\n",
    "    [0, 1, 0],\n",
    "    [1, 0, 0]\n",
    "]\n",
    "assert winner(board4) == P1\n",
    "\n",
    "# Board with \"hole\" in lines of 1\n",
    "board5 = [\n",
    "    [1, 0, 1],\n",
    "    [0, 0, 0],\n",
    "    [0, 0, 0]\n",
    "]\n",
    "assert winner(board5) == 0"
   ]
  },
  {
   "cell_type": "code",
   "execution_count": 11,
   "metadata": {
    "collapsed": true
   },
   "outputs": [],
   "source": [
    "def precompute_winning_boards():\n",
    "    pass"
   ]
  },
  {
   "cell_type": "markdown",
   "metadata": {},
   "source": [
    "17.3 Write an algorithm which computes the number of trailing zeros in n factorial."
   ]
  },
  {
   "cell_type": "code",
   "execution_count": null,
   "metadata": {
    "collapsed": true
   },
   "outputs": [],
   "source": [
    "# TODO"
   ]
  },
  {
   "cell_type": "markdown",
   "metadata": {},
   "source": [
    "17.4 Write a method which finds the maximum of two numbers. You should not use\n",
    "if-else or any other comparison operator."
   ]
  },
  {
   "cell_type": "code",
   "execution_count": 12,
   "metadata": {
    "collapsed": false
   },
   "outputs": [
    {
     "ename": "AssertionError",
     "evalue": "",
     "output_type": "error",
     "traceback": [
      "\u001b[0;31m---------------------------------------------------------------------------\u001b[0m",
      "\u001b[0;31mAssertionError\u001b[0m                            Traceback (most recent call last)",
      "\u001b[0;32m<ipython-input-12-f5ec97ed57da>\u001b[0m in \u001b[0;36m<module>\u001b[0;34m()\u001b[0m\n\u001b[1;32m      5\u001b[0m \u001b[0;32mfor\u001b[0m \u001b[0ma\u001b[0m \u001b[0;32min\u001b[0m \u001b[0mrange\u001b[0m\u001b[0;34m(\u001b[0m\u001b[0;34m-\u001b[0m\u001b[0;36m100\u001b[0m\u001b[0;34m,\u001b[0m \u001b[0;36m100\u001b[0m\u001b[0;34m)\u001b[0m\u001b[0;34m:\u001b[0m\u001b[0;34m\u001b[0m\u001b[0m\n\u001b[1;32m      6\u001b[0m     \u001b[0;32mfor\u001b[0m \u001b[0mb\u001b[0m \u001b[0;32min\u001b[0m \u001b[0mrange\u001b[0m\u001b[0;34m(\u001b[0m\u001b[0;34m-\u001b[0m\u001b[0;36m100\u001b[0m\u001b[0;34m,\u001b[0m \u001b[0;36m100\u001b[0m\u001b[0;34m)\u001b[0m\u001b[0;34m:\u001b[0m\u001b[0;34m\u001b[0m\u001b[0m\n\u001b[0;32m----> 7\u001b[0;31m         \u001b[0;32massert\u001b[0m \u001b[0mno_comparison_min\u001b[0m\u001b[0;34m(\u001b[0m\u001b[0ma\u001b[0m\u001b[0;34m,\u001b[0m \u001b[0mb\u001b[0m\u001b[0;34m)\u001b[0m \u001b[0;34m==\u001b[0m \u001b[0mmin\u001b[0m\u001b[0;34m(\u001b[0m\u001b[0ma\u001b[0m\u001b[0;34m,\u001b[0m \u001b[0mb\u001b[0m\u001b[0;34m)\u001b[0m\u001b[0;34m\u001b[0m\u001b[0m\n\u001b[0m",
      "\u001b[0;31mAssertionError\u001b[0m: "
     ]
    }
   ],
   "source": [
    "def no_comparison_min(a, b):\n",
    "    pass # TODO: check bits for sign? wont work with python I think\n",
    "\n",
    "\n",
    "for a in range(-100, 100):\n",
    "    for b in range(-100, 100):\n",
    "        assert no_comparison_min(a, b) == min(a, b)"
   ]
  },
  {
   "cell_type": "markdown",
   "metadata": {},
   "source": [
    "17.5 The Came of Master Mind is played as follows:\n",
    "The computer has four slots, and each slot will contain a ball that is red (R), yellow\n",
    "(Y), green (C) or blue (B). For example, the computer might have RGGB (Slot # 1 is red,\n",
    "Slots #2 and #3 are green, Slot #4 is blue).\n",
    "You, the user, are trying to guess the solution. You might, for example, guess YRGB.\n",
    "When you guess the correct color for the correct slot, you get a \"hit.\" If you guess a\n",
    "color that exists but is in the wrong slot, you get a \"pseudo-hit.\" Note that a slot that\n",
    "is a hit can never count as a pseudo-hit.\n",
    "For example, if the actual solution is RGBYandyou guess GGRR, you have one hit\n",
    "and one pseudo-hit.\n",
    "Write a method that, given a guess and a solution, returns the number of hits and\n",
    "pseudo-hits."
   ]
  },
  {
   "cell_type": "code",
   "execution_count": 18,
   "metadata": {
    "collapsed": false
   },
   "outputs": [],
   "source": [
    "from collections import Counter\n",
    "\n",
    "def master_mind_num_hits_and_pseudo_hits(solution, guess):\n",
    "    # First check the hits, i.e. colors matching on a position\n",
    "    hits = 0\n",
    "    \n",
    "    for i in range(4):\n",
    "        if guess[i] == solution[i]:\n",
    "            hits += 1\n",
    "            guess[i] = None # A hit can't count as a pseudo hit as well\n",
    "            solution[i] = None\n",
    "    \n",
    "    gc = Counter(guess)\n",
    "    sc = Counter(solution)\n",
    "    \n",
    "    pseudo_hits = 0\n",
    "    for g in gc.keys():\n",
    "        if g is not None and g in sc:\n",
    "            pseudo_hits += min(gc[g], sc[g])\n",
    "\n",
    "    \n",
    "    return hits, pseudo_hits\n",
    "    \n",
    "assert master_mind_num_hits_and_pseudo_hits(list(\"RGBY\"), list(\"GGRR\")) == (1, 1)"
   ]
  },
  {
   "cell_type": "markdown",
   "metadata": {},
   "source": [
    "17.6 Given an array of integers, write a method to find indices m and n such that if you\n",
    "sorted elements m through n, the entire array would be sorted. Minimize n - m (that\n",
    "is, find the smallest such sequence)."
   ]
  },
  {
   "cell_type": "code",
   "execution_count": null,
   "metadata": {
    "collapsed": true
   },
   "outputs": [],
   "source": [
    "# TODO"
   ]
  }
 ],
 "metadata": {
  "anaconda-cloud": {},
  "kernelspec": {
   "display_name": "Python [conda root]",
   "language": "python",
   "name": "conda-root-py"
  },
  "language_info": {
   "codemirror_mode": {
    "name": "ipython",
    "version": 3
   },
   "file_extension": ".py",
   "mimetype": "text/x-python",
   "name": "python",
   "nbconvert_exporter": "python",
   "pygments_lexer": "ipython3",
   "version": "3.5.2"
  }
 },
 "nbformat": 4,
 "nbformat_minor": 1
}
