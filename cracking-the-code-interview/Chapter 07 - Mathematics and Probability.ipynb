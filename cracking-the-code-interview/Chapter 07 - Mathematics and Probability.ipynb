{
 "cells": [
  {
   "cell_type": "code",
   "execution_count": 8,
   "metadata": {
    "collapsed": true
   },
   "outputs": [],
   "source": [
    "import matplotlib.pyplot as plt\n",
    "import numpy as np\n",
    "%matplotlib inline"
   ]
  },
  {
   "cell_type": "markdown",
   "metadata": {
    "collapsed": true
   },
   "source": [
    "7.1 You have a basketball hoop and someone says that you can play one of two\n",
    "games. Game 1: You get one shot to make the hoop. Game 2: You get three shots and you have to make two of three shots. If p is the probability of making a particular shot, for which values of p should\n",
    "you pick one game or the other?"
   ]
  },
  {
   "cell_type": "markdown",
   "metadata": {},
   "source": [
    "Game 1: $p(win) = p$\n",
    "\n",
    "Game 2: Three winning cases: (hit, hit), (hit, miss, hit), (miss, hit, hit) so we get $p(win) = p^2 + 2(1-p)p^2$"
   ]
  },
  {
   "cell_type": "code",
   "execution_count": 10,
   "metadata": {
    "collapsed": false
   },
   "outputs": [
    {
     "data": {
      "text/plain": [
       "[<matplotlib.lines.Line2D at 0x7ff30c212c88>]"
      ]
     },
     "execution_count": 10,
     "metadata": {},
     "output_type": "execute_result"
    },
    {
     "data": {
      "image/png": "[encoded data removed]",
      "text/plain": [
       "<matplotlib.figure.Figure at 0x7ff30c29dc50>"
      ]
     },
     "metadata": {},
     "output_type": "display_data"
    }
   ],
   "source": [
    "def game_decider(p):\n",
    "    assert 0.0 <= p <= 1.0\n",
    "    return 1 if p > p**2 + 2 * (1-p) * p**2 else 2\n",
    "\n",
    "\n",
    "ps = np.arange(0.0, 1.0, 0.05)\n",
    "plt.plot(ps, [game_decider(p) for p in ps], \"o\")"
   ]
  },
  {
   "cell_type": "markdown",
   "metadata": {},
   "source": [
    "7.2 There are three ants on different vertices of a triangle. What is the probability of\n",
    "collision (between any two or all of them) if they start walking on the sides of the\n",
    "triangle? Assume that each ant randomly picks a direction, with either direction\n",
    "being equally likely to be chosen, and that they walk at the same speed.\n",
    "Similarly, find the probability of collision with n ants on an n-vertex polygo"
   ]
  },
  {
   "cell_type": "markdown",
   "metadata": {},
   "source": [
    "A collision will happen if all ants did not pick the same direction. Assume probability $p$ to go right, then $p(not\\ collision) = p^3 + (1-p)^3 = 3p^2 - 3p + 1$ which for $p = 0.5$ is $p(not\\ collision) = 0.25$ which gives us $p(collision) = 1 - p(not\\ collision) = 0.75$\n",
    "\n",
    "In the case of an n-vertex polygon, the reasoning is the same which means that $p(not\\ collision) = p^n + (1-p)^n$ so for $p = 0.5$ we get $p(collision) = 1 - \\frac{1}{2^{n-1}}$"
   ]
  },
  {
   "cell_type": "markdown",
   "metadata": {},
   "source": [
    "7.3 Given two lines on a Cartesian plane, determine whether the two lines would intersect"
   ]
  },
  {
   "cell_type": "markdown",
   "metadata": {},
   "source": [
    "Two different lines (assuming we are talking about lines and not line segments here) intersect if they are not parallel. Two lines are parallel if they have the same slope, i.e. the same coefficients of the variables are the same. So if we consider the vector form of a line in 2D $(x, y) = (x_0, y_0) + t(a, b)$ then $a$ and $b$ have to be the same for both lines for them to be parallel and thus as long as they are not the same, the lines will intersect."
   ]
  },
  {
   "cell_type": "markdown",
   "metadata": {},
   "source": [
    "7.4 Write methods to implement the multiply, subtract, and divide operations for integers. Use only the add operator"
   ]
  },
  {
   "cell_type": "code",
   "execution_count": 15,
   "metadata": {
    "collapsed": false
   },
   "outputs": [],
   "source": [
    "# We need to be able to negate a number and since -1 * a is a multiplication it is \n",
    "# probably not allowed. Q: Is bitmanipulation allowed? Otherwise we have to use a loop\n",
    "# but this changes complexity.\n",
    "\n",
    "def _negate(a):\n",
    "    neg_a = 0\n",
    "    b = -1 if a > 0 else 1\n",
    "    while a != 0:\n",
    "        a += b\n",
    "        neg_a += b\n",
    "    return neg_a\n",
    "    \n",
    "def _negate2(a):\n",
    "    return ~a + 1\n",
    "\n",
    "def sub(a, b):\n",
    "    return a + _negate(b)\n",
    "    \n",
    "def mul(a, b):\n",
    "    if a < 0 and b < 0:\n",
    "        a, b = (a, b) if b > a else (b, a)\n",
    "        return _negate(sum(a for _ in range(_negate(b))))\n",
    "    elif a < 0:\n",
    "        # TODO: if a = -1 and b = 1000000, it would be better to negate a and b and switch them?\n",
    "        return sum(a for _ in range(b))\n",
    "    elif b < 0:\n",
    "        return sum(b for _ in range(a))\n",
    "    else:\n",
    "        a, b = (a, b) if b < a else (b, a)\n",
    "        return sum(a for _ in range(b))\n",
    "\n",
    "# Assuming integer division here\n",
    "def div(a, b):\n",
    "    if b == 0:\n",
    "        return None\n",
    "    if a < 0 and b < 0:\n",
    "        return div(_negate(a), _negate(b))\n",
    "    elif a < 0:\n",
    "        return _negate(div(_negate(a), b))\n",
    "    elif b < 0:\n",
    "        return _negate(div(a, _negate(b)))\n",
    "    else:\n",
    "        s = 0\n",
    "        i = 0\n",
    "        while s < a:\n",
    "            s += b\n",
    "            i += 1\n",
    "        return i if s == a else sub(i, 1)\n",
    "\n",
    "assert _negate(10) == -10\n",
    "assert _negate(-10) == 10\n",
    "assert _negate(0) == 0\n",
    "\n",
    "assert sub(0, 0) == 0\n",
    "assert sub(10, 0) == 10\n",
    "assert sub(0, 10) == -10\n",
    "assert sub(10, 10) == 0\n",
    "assert sub(-10, 10) == -20\n",
    "assert sub(10, -10) == 20\n",
    "\n",
    "assert mul(2, 3) == 6\n",
    "assert mul(3, 2) == 6\n",
    "assert mul(-2, 3) == -6\n",
    "assert mul(2, -3) == -6\n",
    "assert mul(-2, -3) == 6\n",
    "assert mul(2, 0) == 0\n",
    "\n",
    "assert div(9, 0) == None\n",
    "assert div(0, 9) == 0\n",
    "assert div(9, 3) == 3\n",
    "assert div(9, 2) == 4\n",
    "assert div(-9, 2) == -4\n",
    "assert div(9, -2) == -4\n",
    "assert div(-9, -2) == 4"
   ]
  },
  {
   "cell_type": "markdown",
   "metadata": {},
   "source": [
    "7.5 Given two squares on a two-dimensional plane, find a line that would cut these two\n",
    "squares in half. Assume that the top and the bottom sides of the square run parallel\n",
    "to the x-axis."
   ]
  },
  {
   "cell_type": "code",
   "execution_count": null,
   "metadata": {
    "collapsed": true
   },
   "outputs": [],
   "source": [
    "# same size? waht else do we know about their position"
   ]
  },
  {
   "cell_type": "markdown",
   "metadata": {},
   "source": [
    "7.6 Given a two-dimensional graph with points on it, find a line which passes the most\n",
    "number of points."
   ]
  },
  {
   "cell_type": "code",
   "execution_count": null,
   "metadata": {
    "collapsed": true
   },
   "outputs": [],
   "source": [
    "def get_line_passing_most():\n",
    "    # check lines between each pair and see how many others are on that line?\n",
    "    pass\n",
    "\n",
    "points = [(1, 1), (2, 2), (3, 3) (4, 4), ] # TODO: more random points"
   ]
  },
  {
   "cell_type": "markdown",
   "metadata": {},
   "source": [
    "7.7 Design an algorithm to find the kth number such that the only prime factors are 3,\n",
    "5, and 7."
   ]
  },
  {
   "cell_type": "code",
   "execution_count": null,
   "metadata": {
    "collapsed": true
   },
   "outputs": [],
   "source": [
    "\n",
    "        "
   ]
  }
 ],
 "metadata": {
  "anaconda-cloud": {},
  "kernelspec": {
   "display_name": "Python [conda root]",
   "language": "python",
   "name": "conda-root-py"
  },
  "language_info": {
   "codemirror_mode": {
    "name": "ipython",
    "version": 3
   },
   "file_extension": ".py",
   "mimetype": "text/x-python",
   "name": "python",
   "nbconvert_exporter": "python",
   "pygments_lexer": "ipython3",
   "version": "3.5.2"
  }
 },
 "nbformat": 4,
 "nbformat_minor": 1
}
